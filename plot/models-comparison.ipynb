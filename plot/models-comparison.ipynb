{
 "cells": [
  {
   "cell_type": "code",
   "execution_count": 1,
   "metadata": {},
   "outputs": [
    {
     "name": "stderr",
     "output_type": "stream",
     "text": [
      "/home/saracandussio/.conda/envs/my_env/lib/python3.10/site-packages/tqdm/auto.py:21: TqdmWarning: IProgress not found. Please update jupyter and ipywidgets. See https://ipywidgets.readthedocs.io/en/stable/user_install.html\n",
      "  from .autonotebook import tqdm as notebook_tqdm\n"
     ]
    }
   ],
   "source": [
    "import pandas as pd\n",
    "import ast\n",
    "import re\n",
    "import matplotlib.pyplot as plt\n",
    "from datasets import load_dataset"
   ]
  },
  {
   "cell_type": "code",
   "execution_count": 2,
   "metadata": {},
   "outputs": [],
   "source": [
    "phimini = pd.read_csv('/home/saracandussio/tesi-risultati/results/baseline-phimini-hotpotqa.csv')\n",
    "phimedium = pd.read_csv('/home/saracandussio/tesi-risultati/results/baseline-phimedium-hotpotqa.csv')\n",
    "llama3 = pd.read_csv('/home/saracandussio/tesi-risultati/results/baseline-llama-3.1-8b-it-hotpotqa.csv')\n",
    "gemma2b = pd.read_csv('/home/saracandussio/tesi-risultati/results/baseline-gemma-2-2b-it-hotpotqa.csv')\n",
    "gemma9b = pd.read_csv('/home/saracandussio/tesi-risultati/results/baseline-gemma-2-9b-it-hotpotqa.csv')"
   ]
  },
  {
   "cell_type": "code",
   "execution_count": 3,
   "metadata": {},
   "outputs": [],
   "source": [
    "def clean_text_final(text):\n",
    "    text = re.sub(r'[^\\w\\s.,!?\\'\"\\-:;()]+', '', text)  # Rimuove i caratteri speciali\n",
    "    text = re.sub(r\"['\\\"-]\", '', text)  # Rimuove apostrofi, virgolette e trattini\n",
    "    text = text.lower()  # Converte in minuscolo\n",
    "    return text"
   ]
  },
  {
   "cell_type": "code",
   "execution_count": 4,
   "metadata": {},
   "outputs": [],
   "source": [
    "# phi-mini\n",
    "phimini['correct'] = phimini['correct'].apply(clean_text_final)\n",
    "phimini['thesis'] = phimini['thesis'].apply(clean_text_final)\n",
    "phimini['synthesis'] = phimini['synthesis'].apply(clean_text_final)\n",
    "phimini['goat'] = phimini['goat'].apply(clean_text_final)\n",
    "\n",
    "# phi-medium\n",
    "phimedium['correct'] = phimedium['correct'].apply(clean_text_final)\n",
    "phimedium['thesis'] = phimedium['thesis'].apply(clean_text_final)\n",
    "phimedium['synthesis'] = phimedium['synthesis'].apply(clean_text_final)\n",
    "phimedium['goat'] = phimedium['goat'].apply(clean_text_final)\n",
    "\n",
    "# llama3\n",
    "llama3['correct'] = llama3['correct'].apply(clean_text_final)\n",
    "llama3['thesis'] = llama3['thesis'].apply(clean_text_final)\n",
    "llama3['synthesis'] = llama3['synthesis'].apply(clean_text_final)\n",
    "\n",
    "# gemma-2b\n",
    "gemma2b['correct'] = gemma2b['correct'].apply(clean_text_final)\n",
    "gemma2b['thesis'] = gemma2b['thesis'].apply(clean_text_final)\n",
    "gemma2b['synthesis'] = gemma2b['synthesis'].apply(clean_text_final)\n",
    "\n",
    "# gemma-9b\n",
    "gemma9b['correct'] = gemma9b['correct'].apply(clean_text_final)\n",
    "gemma9b['thesis'] = gemma9b['thesis'].apply(clean_text_final)\n",
    "gemma9b['synthesis'] = gemma9b['synthesis'].apply(clean_text_final)"
   ]
  },
  {
   "cell_type": "markdown",
   "metadata": {},
   "source": [
    "# Impact of the best suggestion"
   ]
  },
  {
   "cell_type": "markdown",
   "metadata": {},
   "source": [
    "# TL;DR"
   ]
  },
  {
   "cell_type": "markdown",
   "metadata": {},
   "source": [
    "|which model|baseline - thesis|baseline - synthesis|bart - synthesis|roberta - synthesis| oracle - synthesis| nocontext - thesis | nocontext - synthesis | CoT as antithesis |\n",
    "|:---:|:---:|:---:|:---:|:---:|:---:| :---:|:---:| :---:| \n",
    "| phi-mini | 53.41% | 80.68% | 77.27% | 76.70% | 89.20% | 51.70% | 74.72% | 87.22% |\n",
    "| phi-medium | 50.00% | 75.28% | 79.26% | 78.69% | 83.24% | 48.01% | 80.97% | 78.69% |\n",
    "| llama-3.1-it-8b | 48.30% | 77.84% | / | / | 85.23% | / | / | / |\n",
    "| gemma-2-2b-it | 52.84% | 57.67% | / | / | 55.11% | / | / | / |\n",
    "| gemma-2-9b-it | 59.66% | 88.35% | / | / | 94.89% | / | / | / |"
   ]
  },
  {
   "cell_type": "markdown",
   "metadata": {},
   "source": [
    "|to-do models| status |\n",
    "|:---:|:---:|\n",
    "| gemma-2-27b-it | running |\n",
    "| phi-small | to be considered? |"
   ]
  },
  {
   "cell_type": "markdown",
   "metadata": {},
   "source": [
    "# Comparison of success rates"
   ]
  },
  {
   "cell_type": "code",
   "execution_count": 8,
   "metadata": {},
   "outputs": [],
   "source": [
    "def evaluation(correct_answer, candidate):\n",
    "    matches = 0\n",
    "    total = len(correct_answer)\n",
    "\n",
    "    for i in range(total):\n",
    "        \n",
    "        if correct_answer[i] == candidate[i]:\n",
    "            matches += 1\n",
    "\n",
    "    return round(matches/total*100, 2)"
   ]
  },
  {
   "cell_type": "code",
   "execution_count": 9,
   "metadata": {},
   "outputs": [
    {
     "name": "stdout",
     "output_type": "stream",
     "text": [
      "Portion of correct: \n",
      "- thesis answers: 53.41%\n",
      "- baseline synthesis answers: 80.68%\n",
      "- oracle synthesis answers: 89.2%\n",
      "- BART synthesis answers: 80.68%\n",
      "- RoBERTa synthesis answers: 80.68%\n"
     ]
    }
   ],
   "source": [
    "print(\"Portion of correct: \")\n",
    "print(\"- thesis answers: {}%\".format(evaluation(phimini['correct'], phimini['thesis'])))\n",
    "print(\"- baseline synthesis answers: {}%\".format(evaluation(phimini['correct'], phimini['synthesis'])))\n",
    "print(\"- oracle synthesis answers: {}%\".format(evaluation(phimini['correct'], phimini['goat'])))\n",
    "print(\"- BART synthesis answers: {}%\".format(evaluation(phimini['correct'], phimini['synthesis'])))\n",
    "print(\"- RoBERTa synthesis answers: {}%\".format(evaluation(phimini['correct'], phimini['synthesis'])))"
   ]
  },
  {
   "cell_type": "code",
   "execution_count": 10,
   "metadata": {},
   "outputs": [
    {
     "name": "stdout",
     "output_type": "stream",
     "text": [
      "Portion of correct: \n",
      "- thesis answers: 50.0%\n",
      "- baseline synthesis answers: 75.28%\n",
      "- oracle synthesis answers: 83.24%\n",
      "- BART synthesis answers: 75.28%\n",
      "- RoBERTa synthesis answers: 75.28%\n"
     ]
    }
   ],
   "source": [
    "print(\"Portion of correct: \")\n",
    "print(\"- thesis answers: {}%\".format(evaluation(phimedium['correct'], phimedium['thesis'])))\n",
    "print(\"- baseline synthesis answers: {}%\".format(evaluation(phimedium['correct'], phimedium['synthesis'])))\n",
    "print(\"- oracle synthesis answers: {}%\".format(evaluation(phimedium['correct'], phimedium['goat'])))\n",
    "print(\"- BART synthesis answers: {}%\".format(evaluation(phimedium['correct'], phimedium['synthesis'])))\n",
    "print(\"- RoBERTa synthesis answers: {}%\".format(evaluation(phimedium['correct'], phimedium['synthesis'])))"
   ]
  },
  {
   "cell_type": "code",
   "execution_count": 12,
   "metadata": {},
   "outputs": [
    {
     "name": "stdout",
     "output_type": "stream",
     "text": [
      "Portion of correct: \n",
      "- thesis answers: 48.3%\n",
      "- baseline synthesis answers: 77.84%\n",
      "- oracle synthesis answers: 85.23%\n"
     ]
    }
   ],
   "source": [
    "print(\"Portion of correct: \")\n",
    "print(\"- thesis answers: {}%\".format(evaluation(llama3['correct'], llama3['thesis'])))\n",
    "print(\"- baseline synthesis answers: {}%\".format(evaluation(llama3['correct'], llama3['synthesis'])))\n",
    "print(\"- oracle synthesis answers: {}%\".format(evaluation(llama3['correct'], llama3['oracle'])))\n",
    "# print(\"- BART synthesis answers: {}%\".format(evaluation(llama3['correct'], llama3['synthesis'])))\n",
    "# print(\"- RoBERTa synthesis answers: {}%\".format(evaluation(llama3['correct'], llama3['synthesis'])))"
   ]
  },
  {
   "cell_type": "code",
   "execution_count": 13,
   "metadata": {},
   "outputs": [
    {
     "name": "stdout",
     "output_type": "stream",
     "text": [
      "Portion of correct: \n",
      "- thesis answers: 52.84%\n",
      "- baseline synthesis answers: 57.67%\n",
      "- oracle synthesis answers: 55.11%\n"
     ]
    }
   ],
   "source": [
    "# dati strani. devo rifare la run...\n",
    "\n",
    "print(\"Portion of correct: \")\n",
    "print(\"- thesis answers: {}%\".format(evaluation(gemma2b['correct'], gemma2b['thesis'])))\n",
    "print(\"- baseline synthesis answers: {}%\".format(evaluation(gemma2b['correct'], gemma2b['synthesis'])))\n",
    "print(\"- oracle synthesis answers: {}%\".format(evaluation(gemma2b['correct'], gemma2b['oracle'])))\n",
    "# print(\"- BART synthesis answers: {}%\".format(evaluation(gemma2b['correct'], gemma2b['synthesis'])))\n",
    "# print(\"- RoBERTa synthesis answers: {}%\".format(evaluation(gemma2b['correct'], gemma2b['synthesis'])))"
   ]
  },
  {
   "cell_type": "code",
   "execution_count": 14,
   "metadata": {},
   "outputs": [
    {
     "name": "stdout",
     "output_type": "stream",
     "text": [
      "Portion of correct: \n",
      "- thesis answers: 59.66%\n",
      "- baseline synthesis answers: 88.35%\n",
      "- oracle synthesis answers: 94.89%\n"
     ]
    }
   ],
   "source": [
    "print(\"Portion of correct: \")\n",
    "print(\"- thesis answers: {}%\".format(evaluation(gemma9b['correct'], gemma9b['thesis'])))\n",
    "print(\"- baseline synthesis answers: {}%\".format(evaluation(gemma9b['correct'], gemma9b['synthesis'])))\n",
    "print(\"- oracle synthesis answers: {}%\".format(evaluation(gemma9b['correct'], gemma9b['oracle'])))\n",
    "# print(\"- BART synthesis answers: {}%\".format(evaluation(gemma9b['correct'], gemma9b['synthesis'])))\n",
    "# print(\"- RoBERTa synthesis answers: {}%\".format(evaluation(gemma9b['correct'], gemma9b['synthesis'])))"
   ]
  },
  {
   "cell_type": "code",
   "execution_count": null,
   "metadata": {},
   "outputs": [],
   "source": []
  }
 ],
 "metadata": {
  "kernelspec": {
   "display_name": "my_env",
   "language": "python",
   "name": "python3"
  },
  "language_info": {
   "codemirror_mode": {
    "name": "ipython",
    "version": 3
   },
   "file_extension": ".py",
   "mimetype": "text/x-python",
   "name": "python",
   "nbconvert_exporter": "python",
   "pygments_lexer": "ipython3",
   "version": "3.10.13"
  }
 },
 "nbformat": 4,
 "nbformat_minor": 2
}
